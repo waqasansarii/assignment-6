{
 "cells": [
  {
   "cell_type": "markdown",
   "metadata": {},
   "source": [
    "```\n",
    "Create a dictionary named student_scores with the following key-value pairs:\n",
    "\"Alice\": 85\n",
    "\"Bob\": 78\n",
    "\"Charlie\": 92\n",
    "\"Diana\": 88\n",
    "\"Evan\": 76\n",
    "```\n",
    "\n",
    "1. Write a for loop to iterate through the student_scores dictionary and print each student's name and their score in the format: Student: [Name], Score: [Score]."
   ]
  },
  {
   "cell_type": "code",
   "execution_count": 3,
   "metadata": {},
   "outputs": [
    {
     "name": "stdout",
     "output_type": "stream",
     "text": [
      "Student : Alice , Score : 85\n",
      "Student : Bob , Score : 78\n",
      "Student : Charlie , Score : 92\n",
      "Student : Diana , Score : 88\n",
      "Student : Evan , Score : 76\n"
     ]
    }
   ],
   "source": [
    "student_scores = {\n",
    "    \"Alice\":85,\n",
    "    \"Bob\": 78,\n",
    "    \"Charlie\": 92,\n",
    "    \"Diana\": 88,\n",
    "    \"Evan\": 76,\n",
    "}\n",
    "\n",
    "for key , val in student_scores.items():\n",
    "    print(f'Student : {key} , Score : {val}')"
   ]
  },
  {
   "cell_type": "markdown",
   "metadata": {},
   "source": [
    "2. Write a for loop to calculate the average score of the students. Print the average score."
   ]
  },
  {
   "cell_type": "code",
   "execution_count": 10,
   "metadata": {},
   "outputs": [
    {
     "name": "stdout",
     "output_type": "stream",
     "text": [
      "\n",
      "83.8\n"
     ]
    }
   ],
   "source": [
    "student_scores = {\n",
    "    \"Alice\":85,\n",
    "    \"Bob\": 78,\n",
    "    \"Charlie\": 92,\n",
    "    \"Diana\": 88,\n",
    "    \"Evan\": 76,\n",
    "}\n",
    "\n",
    "total = 0\n",
    "for key , val in student_scores.items():\n",
    "    total += val\n",
    "\n",
    "average = total / len(student_scores) \n",
    "print(average)"
   ]
  },
  {
   "cell_type": "markdown",
   "metadata": {},
   "source": [
    "3. Write a for loop to assign grades based on the following criteria:\n",
    "* Score >= 90: Grade A\n",
    "* Score >= 80 and < 90: Grade B\n",
    "* Score >= 70 and < 80: Grade C\n",
    "* Score < 70: Grade D\n",
    "* Store these grades in a new dictionary called student_grades."
   ]
  },
  {
   "cell_type": "code",
   "execution_count": 11,
   "metadata": {},
   "outputs": [
    {
     "name": "stdout",
     "output_type": "stream",
     "text": [
      "{'Alice': 'B', 'Bob': 'C', 'Charlie': 'A', 'Diana': 'B', 'Evan': 'C'}\n"
     ]
    }
   ],
   "source": [
    "student_scores = {\n",
    "    \"Alice\":85,\n",
    "    \"Bob\": 78,\n",
    "    \"Charlie\": 92,\n",
    "    \"Diana\": 88,\n",
    "    \"Evan\": 76,\n",
    "}\n",
    "\n",
    "student_grades = {}\n",
    "\n",
    "for key , val in student_scores.items():\n",
    "    if val >= 90:\n",
    "        student_grades[key] = 'A'\n",
    "    elif val>= 80 and val < 90:\n",
    "        student_grades[key] = 'B'\n",
    "    elif val>= 70 and val < 80:\n",
    "        student_grades[key] = 'C'\n",
    "    elif val< 70:\n",
    "        student_grades[key] = 'D'\n",
    "        \n",
    "print(student_grades)            \n"
   ]
  },
  {
   "cell_type": "markdown",
   "metadata": {},
   "source": [
    "4. Modify the student_scores dictionary by adding 5 bonus points to each student's score. \n",
    "* Print the updated student_scores dictionary."
   ]
  },
  {
   "cell_type": "code",
   "execution_count": 16,
   "metadata": {},
   "outputs": [
    {
     "name": "stdout",
     "output_type": "stream",
     "text": [
      "{'Alice': 90, 'Bob': 83, 'Charlie': 97, 'Diana': 93, 'Evan': 81}\n"
     ]
    }
   ],
   "source": [
    "student_scores = {\n",
    "    \"Alice\":85,\n",
    "    \"Bob\": 78,\n",
    "    \"Charlie\": 92,\n",
    "    \"Diana\": 88,\n",
    "    \"Evan\": 76\n",
    "}\n",
    "\n",
    "for key , val in student_scores.items():\n",
    "    student_scores[key] =  val + 5\n",
    "    \n",
    "print(student_scores)    \n",
    "    "
   ]
  },
  {
   "cell_type": "markdown",
   "metadata": {},
   "source": [
    "```\n",
    "Create a dictionary named employee_data with the following key-value pairs:\n",
    "\"John\": 55000\n",
    "\"Emma\": 60000\n",
    "\"Harry\": 70000\n",
    "\"Sophia\": 65000\n",
    "\"Mike\": 48000\n",
    "```\n",
    "\n",
    "1. Write a for loop with an if statement to identify employees who earn more than $60,000. Print their names."
   ]
  },
  {
   "cell_type": "code",
   "execution_count": 17,
   "metadata": {},
   "outputs": [
    {
     "name": "stdout",
     "output_type": "stream",
     "text": [
      "Harry earn : 70000\n",
      "Sophia earn : 65000\n"
     ]
    }
   ],
   "source": [
    "employee_data={\n",
    "    \"John\": 55000,\n",
    "    \"Emma\": 60000,\n",
    "    \"Harry\": 70000,\n",
    "    \"Sophia\": 65000,\n",
    "    \"Mike\": 48000,\n",
    "}\n",
    "\n",
    "for key , val in employee_data.items():\n",
    "    if val > 60000:\n",
    "        print(f'{key} earn : {val}')"
   ]
  },
  {
   "cell_type": "markdown",
   "metadata": {},
   "source": [
    "2. Write a for loop to increase the salary of each employee by 10%. Update the dictionary accordingly."
   ]
  },
  {
   "cell_type": "code",
   "execution_count": 20,
   "metadata": {},
   "outputs": [
    {
     "name": "stdout",
     "output_type": "stream",
     "text": [
      "{'John': 60500, 'Emma': 66000, 'Harry': 77000, 'Sophia': 71500, 'Mike': 52800}\n"
     ]
    }
   ],
   "source": [
    "employee_data={\n",
    "    \"John\": 55000,\n",
    "    \"Emma\": 60000,\n",
    "    \"Harry\": 70000,\n",
    "    \"Sophia\": 65000,\n",
    "    \"Mike\": 48000,\n",
    "}\n",
    "\n",
    "for key , val in employee_data.items():\n",
    "      increament = val * .10\n",
    "      employee_data[key] = int(val + increament )\n",
    "    #   print(f'{key} earn : {increament}')\n",
    "print(employee_data)"
   ]
  },
  {
   "cell_type": "markdown",
   "metadata": {},
   "source": [
    "```\n",
    "Create a dictionary named library_books with the following key-value pairs:\n",
    "\"The Great Gatsby\": 4\n",
    "\"1984\": 6\n",
    "\"To Kill a Mockingbird\": 3\n",
    "\"The Catcher in the Rye\": 5\n",
    "\"Moby Dick\": 2\n",
    "```\n",
    "\n",
    "1. Write a for loop to add 2 more copies to each book. Update the dictionary accordingly."
   ]
  },
  {
   "cell_type": "code",
   "execution_count": 21,
   "metadata": {},
   "outputs": [
    {
     "name": "stdout",
     "output_type": "stream",
     "text": [
      "{'The Great Gatsby': 6, '1984': 8, 'To Kill a Mockingbird': 5, 'The Catcher in the Rye': 7, 'Moby Dick': 4}\n"
     ]
    }
   ],
   "source": [
    "library_books={\n",
    "    \"The Great Gatsby\": 4,\n",
    "    \"1984\": 6,\n",
    "    \"To Kill a Mockingbird\": 3,\n",
    "    \"The Catcher in the Rye\": 5,\n",
    "    \"Moby Dick\": 2,\n",
    "}\n",
    "\n",
    "for key , val in library_books.items():\n",
    "      library_books[key] =val + 2 \n",
    "      \n",
    "print(library_books)"
   ]
  },
  {
   "cell_type": "markdown",
   "metadata": {},
   "source": [
    "2. Write a for loop to calculate the total number of books in the library. Print the total count."
   ]
  },
  {
   "cell_type": "code",
   "execution_count": 23,
   "metadata": {},
   "outputs": [
    {
     "name": "stdout",
     "output_type": "stream",
     "text": [
      "total books in the library : 20\n"
     ]
    }
   ],
   "source": [
    "library_books={\n",
    "    \"The Great Gatsby\": 4,\n",
    "    \"1984\": 6,\n",
    "    \"To Kill a Mockingbird\": 3,\n",
    "    \"The Catcher in the Rye\": 5,\n",
    "    \"Moby Dick\": 2,\n",
    "}\n",
    "total_books = 0\n",
    "for key , val in library_books.items():\n",
    "      total_books += val\n",
    "      \n",
    "print(f'total books in the library : {total_books}')"
   ]
  },
  {
   "cell_type": "markdown",
   "metadata": {},
   "source": [
    "```\n",
    "consider the list of dicts\n",
    "book_list = [{\"name\": \"The Great Gatsby\", \"quantity\": 4}, {\"name\": \"1984\", \"quantity\": 6}, {\"name\": \"To Kill a Mockingbird\", \"quantity\": 3}, {\"name\": \"Moby Dick\", \"quantity\": 2}]\n",
    "Write a for loop to assign one more detail \"stock\" based on the number of copies available:\n",
    "Copies >= 5: \"Popular\"\n",
    "Copies >= 3 and < 5: \"Available\"\n",
    "Copies < 3: \"Limited\"\n",
    "Store these stock categories in a same dict i.e book_list.\n",
    "```"
   ]
  },
  {
   "cell_type": "code",
   "execution_count": 60,
   "metadata": {},
   "outputs": [
    {
     "data": {
      "text/plain": [
       "[{'name': 'The Great Gatsby', 'quantity': 4, 'stock': 'Available'},\n",
       " {'name': '1984', 'quantity': 6, 'stock': 'Popular'},\n",
       " {'name': 'To Kill a Mockingbird', 'quantity': 3, 'stock': 'Available'},\n",
       " {'name': 'Moby Dick', 'quantity': 2, 'stock': 'Limited'}]"
      ]
     },
     "metadata": {},
     "output_type": "display_data"
    }
   ],
   "source": [
    "book_list = [{\"name\": \"The Great Gatsby\", \"quantity\": 4},\n",
    "             {\"name\": \"1984\", \"quantity\": 6},\n",
    "             {\"name\": \"To Kill a Mockingbird\", \"quantity\": 3},\n",
    "             {\"name\": \"Moby Dick\", \"quantity\": 2}]\n",
    "\n",
    "for val in book_list:\n",
    "    for key , value in val.items():\n",
    "        if val[\"quantity\"] >= 5:\n",
    "            val['stock'] = 'Popular'\n",
    "        elif val[\"quantity\"] >=3 and val[\"quantity\"] < 5:\n",
    "            val['stock'] = 'Available'\n",
    "        elif val[\"quantity\"] < 3:\n",
    "            val['stock'] = 'Limited'    \n",
    "        break    \n",
    "display(book_list)"
   ]
  },
  {
   "cell_type": "markdown",
   "metadata": {},
   "source": [
    "\"\"\"\n",
    "Given the dict\n",
    "\n",
    "students = {\n",
    "    \"Alice\": {\n",
    "                \"Subjects\": [\"Math\", \"Science\", \"English\"],\n",
    "                \"Scores\": [85, 90, 78],\n",
    "                \"Class\": 10\n",
    "            },\n",
    "    \"Bob\": {\n",
    "        \"Subjects\": [\"Math\", \"Science\", \"English\"],\n",
    "        \"Scores\": [75, 80, 88],\n",
    "        \"Class\": 10\n",
    "    },\n",
    "    \"Charlie\": {\n",
    "        \"Subjects\": [\"Math\", \"Science\", \"English\"],\n",
    "        \"Scores\": [92, 89, 94],\n",
    "        \"Class\": 11\n",
    "    },\n",
    "    \"Diana\": {\n",
    "        \"Subjects\": [\"Math\", \"Science\", \"English\"],\n",
    "        \"Scores\": [88, 76, 85],\n",
    "        \"Class\": 11\n",
    "    },\n",
    "    \"John\": {\n",
    "        \"Subjects\": [\"Math\", \"Science\", \"English\"],\n",
    "        \"Scores\": [50, 60, 60],\n",
    "        \"Class\": 11\n",
    "    }\n",
    "}\n",
    "\n",
    "\n",
    "1. display Alice English Score\n",
    "2. display Bob Class\n",
    "3. display Charlie Math Score\n",
    "4. display Diana's avg score\n",
    "5. display John's all subject name and score with format: Student: [Name], Score: [Subject], Score: [Score].\n",
    "6. Add new Student and its subject, score and class in same dict i.e students\n",
    "7. add new subject and its score in John\n",
    "\"\"\""
   ]
  },
  {
   "cell_type": "code",
   "execution_count": 100,
   "metadata": {},
   "outputs": [
    {
     "data": {
      "text/plain": [
       "'Alice English score : 78'"
      ]
     },
     "metadata": {},
     "output_type": "display_data"
    },
    {
     "data": {
      "text/plain": [
       "'Bob class : 10 '"
      ]
     },
     "metadata": {},
     "output_type": "display_data"
    },
    {
     "data": {
      "text/plain": [
       "'Charlie Math score : 92'"
      ]
     },
     "metadata": {},
     "output_type": "display_data"
    },
    {
     "name": "stdout",
     "output_type": "stream",
     "text": [
      "249 83.0\n",
      "John , Subjects : ['Math', 'Science', 'English'] , Scores : [50, 60, 60] \n"
     ]
    },
    {
     "data": {
      "text/plain": [
       "'task 6'"
      ]
     },
     "metadata": {},
     "output_type": "display_data"
    },
    {
     "data": {
      "text/plain": [
       "{'Alice': {'Subjects': ['Math', 'Science', 'English'],\n",
       "  'Scores': [85, 90, 78],\n",
       "  'Class': 10},\n",
       " 'Bob': {'Subjects': ['Math', 'Science', 'English'],\n",
       "  'Scores': [75, 80, 88],\n",
       "  'Class': 10},\n",
       " 'Charlie': {'Subjects': ['Math', 'Science', 'English'],\n",
       "  'Scores': [92, 89, 94],\n",
       "  'Class': 11},\n",
       " 'Diana': {'Subjects': ['Math', 'Science', 'English'],\n",
       "  'Scores': [88, 76, 85],\n",
       "  'Class': 11},\n",
       " 'John': {'Subjects': ['Math', 'Science', 'English'],\n",
       "  'Scores': [50, 60, 60],\n",
       "  'Class': 11},\n",
       " 'Jack': {'Subjects': ['Math', 'Science', 'English'],\n",
       "  'Scores': [50, 60, 60],\n",
       "  'class': 12}}"
      ]
     },
     "metadata": {},
     "output_type": "display_data"
    },
    {
     "data": {
      "text/plain": [
       "'task 7'"
      ]
     },
     "metadata": {},
     "output_type": "display_data"
    },
    {
     "data": {
      "text/plain": [
       "{'Alice': {'Subjects': ['Math', 'Science', 'English'],\n",
       "  'Scores': [85, 90, 78],\n",
       "  'Class': 10},\n",
       " 'Bob': {'Subjects': ['Math', 'Science', 'English'],\n",
       "  'Scores': [75, 80, 88],\n",
       "  'Class': 10},\n",
       " 'Charlie': {'Subjects': ['Math', 'Science', 'English'],\n",
       "  'Scores': [92, 89, 94],\n",
       "  'Class': 11},\n",
       " 'Diana': {'Subjects': ['Math', 'Science', 'English'],\n",
       "  'Scores': [88, 76, 85],\n",
       "  'Class': 11},\n",
       " 'John': {'Subjects': ['Math', 'Science', 'English', 'Physics'],\n",
       "  'Scores': [50, 60, 60, 78],\n",
       "  'Class': 11},\n",
       " 'Jack': {'Subjects': ['Math', 'Science', 'English'],\n",
       "  'Scores': [50, 60, 60],\n",
       "  'class': 12}}"
      ]
     },
     "metadata": {},
     "output_type": "display_data"
    }
   ],
   "source": [
    "students = {\n",
    "    \"Alice\": {\n",
    "            \"Subjects\": [\"Math\", \"Science\", \"English\"],\n",
    "            \"Scores\": [85, 90, 78],\n",
    "            \"Class\": 10\n",
    "            },\n",
    "    \"Bob\": {\n",
    "        \"Subjects\": [\"Math\", \"Science\", \"English\"],\n",
    "        \"Scores\": [75, 80, 88],\n",
    "        \"Class\": 10\n",
    "    },\n",
    "    \"Charlie\": {\n",
    "        \"Subjects\": [\"Math\", \"Science\", \"English\"],\n",
    "        \"Scores\": [92, 89, 94],\n",
    "        \"Class\": 11\n",
    "    },\n",
    "    \"Diana\": {\n",
    "        \"Subjects\": [\"Math\", \"Science\", \"English\"],\n",
    "        \"Scores\": [88, 76, 85],\n",
    "        \"Class\": 11\n",
    "    },\n",
    "    \"John\": {\n",
    "        \"Subjects\": [\"Math\", \"Science\", \"English\"],\n",
    "        \"Scores\": [50, 60, 60],\n",
    "        \"Class\": 11\n",
    "    }\n",
    "}\n",
    "\n",
    "#1\n",
    "display(f\"\"\"Alice {students[\"Alice\"]['Subjects'][2]} score : {students[\"Alice\"]['Scores'][2]}\"\"\")\n",
    "\n",
    "#2\n",
    "display(f\"\"\"Bob class : {students[\"Bob\"]['Class']} \"\"\")\n",
    "\n",
    "#3\n",
    "display(f\"\"\"Charlie {students[\"Charlie\"]['Subjects'][0]} score : {students[\"Charlie\"]['Scores'][0]}\"\"\")\n",
    "\n",
    "#4\n",
    "score = sum(students['Diana']['Scores']) \n",
    "avg_score = score / len(students['Diana']['Scores'])\n",
    "print(score,avg_score)\n",
    "\n",
    "#5\n",
    "for key, val in students.items():\n",
    "    if key =='John':\n",
    "        print(f'''{key} , Subjects : {students[key]['Subjects']} , Scores : {students[key]['Scores']} ''')\n",
    "        # print(students[key])\n",
    "        \n",
    "\n",
    "#6\n",
    "Scores = [50, 60, 60]\n",
    "Subjects = ['Math', 'Science', 'English']\n",
    "name = 'Jack'\n",
    "students[name] = {\n",
    "    \"Subjects\": Subjects,\n",
    "    \"Scores\": Scores,\n",
    "    \"class\": 12\n",
    "}\n",
    "display('task 6',students)\n",
    "\n",
    "#7\n",
    "for key, val in students.items():\n",
    "    if key =='John':\n",
    "        students[key]['Subjects'] = students[key]['Subjects'] + ['Physics']\n",
    "        students[key]['Scores'] = students[key]['Scores'] + [78]\n",
    "display('task 7',students)"
   ]
  },
  {
   "cell_type": "markdown",
   "metadata": {},
   "source": [
    "\"\"\"\n",
    "Givent the list of students\n",
    "students = [\n",
    "    {\n",
    "        \"name\": \"Alice\",\n",
    "        \"subjects\": [\"Math\", \"Science\", \"English\"],\n",
    "        \"scores\": [85, 90, 78],\n",
    "        \"Class\": 10\n",
    "    },\n",
    "    {\n",
    "        \"name\": \"Bob\",\n",
    "        \"subjects\": [\"Math\", \"Science\", \"English\"],\n",
    "        \"scores\": [75, 80, 88],\n",
    "        \"Class\": 10\n",
    "    },\n",
    "    {\n",
    "        \"name\": \"Charlie\",\n",
    "        \"subjects\": [\"Math\", \"Science\", \"English\"],\n",
    "        \"scores\": [92, 89, 94],\n",
    "        \"Class\": 11\n",
    "    },\n",
    "    {\n",
    "        \"name\": \"Diana\",\n",
    "        \"subjects\": [\"Math\", \"Science\", \"English\"],\n",
    "        \"scores\": [88, 76, 85],\n",
    "        \"Class\": 11\n",
    "    }\n",
    "]\n",
    "\n",
    "1. display Alice English Score\n",
    "2. display Bob Class\n",
    "3. display Charlie Math Score\n",
    "4. display Diana's avg score\n",
    "5. display John's all subject name and score with format: Student: [Name], Score: [Subject], Score: [Score].\n",
    "6. display which class obtained the higher marks\n",
    "7. display the student name that obtain high marks in subject Math in class 10\n",
    "8. Add new Student and its subject, score and class in same dict i.e students\n",
    "\"\"\""
   ]
  },
  {
   "cell_type": "code",
   "execution_count": 150,
   "metadata": {},
   "outputs": [
    {
     "name": "stdout",
     "output_type": "stream",
     "text": [
      "Alice English score :78\n",
      "Bob class :10\n",
      "Charlie Math score : 92\n",
      "Diana avg score : 83.0\n",
      "John  subject : ['Math', 'Science', 'English'], Score: [78, 65, 85]\n",
      "11\n"
     ]
    },
    {
     "data": {
      "text/plain": [
       "'task 6'"
      ]
     },
     "metadata": {},
     "output_type": "display_data"
    },
    {
     "data": {
      "text/plain": [
       "[{'name': 'Alice',\n",
       "  'subjects': ['Math', 'Science', 'English'],\n",
       "  'scores': [85, 90, 78],\n",
       "  'Class': 10},\n",
       " {'name': 'Bob',\n",
       "  'subjects': ['Math', 'Science', 'English'],\n",
       "  'scores': [75, 80, 88],\n",
       "  'Class': 10},\n",
       " {'name': 'Charlie',\n",
       "  'subjects': ['Math', 'Science', 'English'],\n",
       "  'scores': [92, 89, 94],\n",
       "  'Class': 11},\n",
       " {'name': 'Diana',\n",
       "  'subjects': ['Math', 'Science', 'English'],\n",
       "  'scores': [88, 76, 85],\n",
       "  'Class': 11},\n",
       " {'name': 'John',\n",
       "  'subjects': ['Math', 'Science', 'English'],\n",
       "  'scores': [78, 65, 85],\n",
       "  'Class': 11},\n",
       " {'name': 'Jack',\n",
       "  'subjects': ['Math', 'Science', 'English'],\n",
       "  'scores': [50, 60, 60],\n",
       "  'Class': 11}]"
      ]
     },
     "metadata": {},
     "output_type": "display_data"
    }
   ],
   "source": [
    "students = [\n",
    "    {\n",
    "        \"name\": \"Alice\",\n",
    "        \"subjects\": [\"Math\", \"Science\", \"English\"],\n",
    "        \"scores\": [85, 90, 78],\n",
    "        \"Class\": 10\n",
    "    },\n",
    "    {\n",
    "        \"name\": \"Bob\",\n",
    "        \"subjects\": [\"Math\", \"Science\", \"English\"],\n",
    "        \"scores\": [75, 80, 88],\n",
    "        \"Class\": 10\n",
    "    },\n",
    "    {\n",
    "        \"name\": \"Charlie\",\n",
    "        \"subjects\": [\"Math\", \"Science\", \"English\"],\n",
    "        \"scores\": [92, 89, 94],\n",
    "        \"Class\": 11\n",
    "    },\n",
    "    {\n",
    "        \"name\": \"Diana\",\n",
    "        \"subjects\": [\"Math\", \"Science\", \"English\"],\n",
    "        \"scores\": [88, 76, 85],\n",
    "        \"Class\": 11\n",
    "    },\n",
    "    {\n",
    "        \"name\": \"John\",\n",
    "        \"subjects\": [\"Math\", \"Science\", \"English\"],\n",
    "        \"scores\": [78, 65, 85],\n",
    "        \"Class\": 11\n",
    "    }\n",
    "]\n",
    "\n",
    "#1\n",
    "for value in students:\n",
    "    for key , val in value.items():\n",
    "        if val =='Alice':\n",
    "            print(f'''Alice English score :{value['scores'][2]}''')\n",
    "\n",
    "#2\n",
    "for value in students:\n",
    "    for key , val in value.items():\n",
    "        if val =='Bob':\n",
    "            print(f'''{val} class :{value['Class']}''')\n",
    "        break\n",
    "\n",
    "\n",
    "#3\n",
    "for value in students:\n",
    "    for key , val in value.items():\n",
    "        if val =='Charlie':\n",
    "            print(f'''{val} {value['subjects'][0]} score : {value['scores'][0]}''')\n",
    "        break\n",
    "\n",
    "#4\n",
    "for value in students:\n",
    "    for key , val in value.items():\n",
    "        if val =='Diana':\n",
    "            print(f'''{val} avg score : {sum(value['scores'])/ len(value['scores'])}''')\n",
    "        break\n",
    " \n",
    "#5\n",
    "for value in students:\n",
    "    for key , val in value.items():\n",
    "        if val =='John':\n",
    "            print(f'''{val}  subject : {value['subjects']}, Score: {value['scores']}''')\n",
    "        break\n",
    "\n",
    "\n",
    "#6\n",
    "marks = []\n",
    "# adding sum of each object score in marks list \n",
    "for value in students:\n",
    "    marks.append(sum(value[\"scores\"]))\n",
    "\n",
    "   \n",
    "# find the object that has max marks using marks list \n",
    "for key , val in students[marks.index(max(marks))].items():\n",
    "      if key =='Class':\n",
    "        print(val)\n",
    "\n",
    "\n",
    "#8\n",
    "Scores = [50, 60, 60]\n",
    "Subjects = ['Math', 'Science', 'English']\n",
    "name = 'Jack'\n",
    "students_obj = {\n",
    "        \"name\":  name,\n",
    "        \"subjects\": Subjects,\n",
    "        \"scores\": Scores,\n",
    "        \"Class\": 11\n",
    "    }\n",
    "students.append(students_obj)\n",
    "display('task 6',students)\n",
    "    \n"
   ]
  },
  {
   "cell_type": "code",
   "execution_count": null,
   "metadata": {},
   "outputs": [],
   "source": []
  }
 ],
 "metadata": {
  "kernelspec": {
   "display_name": "Python 3",
   "language": "python",
   "name": "python3"
  },
  "language_info": {
   "codemirror_mode": {
    "name": "ipython",
    "version": 3
   },
   "file_extension": ".py",
   "mimetype": "text/x-python",
   "name": "python",
   "nbconvert_exporter": "python",
   "pygments_lexer": "ipython3",
   "version": "3.11.8"
  }
 },
 "nbformat": 4,
 "nbformat_minor": 2
}
